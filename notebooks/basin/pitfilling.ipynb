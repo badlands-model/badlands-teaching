{
 "cells": [
  {
   "cell_type": "markdown",
   "metadata": {},
   "source": [
    "# Getting lake level from pit filling elevation"
   ]
  },
  {
   "cell_type": "code",
   "execution_count": null,
   "metadata": {},
   "outputs": [],
   "source": [
    "import warnings\n",
    "warnings.filterwarnings('ignore')\n",
    "warnings.simplefilter(action = \"ignore\", category = FutureWarning)\n",
    "\n",
    "import heapq\n",
    "import numpy as np\n",
    "from math import sqrt\n",
    "\n",
    "from scipy import ndimage\n",
    "from scipy import sparse as sp\n",
    "from scipy.sparse import linalg as splg\n",
    "from matplotlib import cm\n",
    "import cmocean as cmo\n",
    "\n",
    "from scripts import catchmentErosion as eroCatch\n",
    "\n",
    "import matplotlib\n",
    "import matplotlib.pyplot as plt\n",
    "from mpl_toolkits.axes_grid1 import make_axes_locatable\n",
    "\n",
    "# display plots in SVG format\n",
    "%config InlineBackend.figure_format = 'svg'\n",
    "%matplotlib inline"
   ]
  },
  {
   "cell_type": "markdown",
   "metadata": {},
   "source": [
    "First, we create a function to plot a elevation grid:\n",
    "    \n",
    "+ `plotDEMheatmap`"
   ]
  },
  {
   "cell_type": "code",
   "execution_count": null,
   "metadata": {},
   "outputs": [],
   "source": [
    "def plotDEMheatmap(x,y,dem,title=\"DEM elevation\",color=None,annotate=False):\n",
    "    \n",
    "    fig, ax = plt.subplots(figsize=(8,8))\n",
    "    if color is None:\n",
    "        im = ax.imshow(dem) \n",
    "    else:\n",
    "        im = ax.imshow(dem,cmap=color)\n",
    "    \n",
    "    if annotate:\n",
    "        for i in range(len(y)):\n",
    "            for j in range(len(x)):\n",
    "                text = ax.text(j, i, dem[i, j],\n",
    "                               ha=\"center\", va=\"center\", color=\"w\")\n",
    "\n",
    "    ax.set_xticks(np.arange(dem.shape[1]+1)-.5, minor=True)\n",
    "    ax.set_yticks(np.arange(dem.shape[0]+1)-.5, minor=True)\n",
    "\n",
    "    divider = make_axes_locatable(ax)\n",
    "    cax = divider.append_axes(\"right\", size=\"5%\", pad=0.1)\n",
    "\n",
    "    plt.colorbar(im, cax=cax)\n",
    "\n",
    "    ax.set_title(title,fontsize=10)\n",
    "    fig.tight_layout()\n",
    "    plt.show()"
   ]
  },
  {
   "cell_type": "markdown",
   "metadata": {},
   "source": [
    "# 1. Output elevation grid\n",
    "\n",
    "We will use the output from the simulation at any given time step. "
   ]
  },
  {
   "cell_type": "code",
   "execution_count": null,
   "metadata": {},
   "outputs": [],
   "source": [
    "dataTIN = eroCatch.catchmentErosion(folder='output',timestep=50)\n",
    "dataTIN.regridTINdataSet()\n",
    "\n",
    "dem = dataTIN.z.copy()\n",
    "x = dataTIN.xi[0,:]\n",
    "y = dataTIN.yi[:,0]\n",
    "#dataTIN.plotdataSet(title='Elevation', data=dataTIN.z, color=cmo.cm.delta,crange=[-2000,2000])"
   ]
  },
  {
   "cell_type": "code",
   "execution_count": null,
   "metadata": {},
   "outputs": [],
   "source": [
    "plotDEMheatmap(x,y,dem,title=\"DEM elevation\",color=None,annotate=False)"
   ]
  },
  {
   "cell_type": "markdown",
   "metadata": {},
   "source": [
    "# 2. Pit filling algorithm\n",
    "\n",
    "\n",
    "<div class=\"alert alert-block alert-info\">Digital elevation models (DEMs) that are used in hydrological applications must be processed to remove sinks, mainly topographic depressions.</div>\n",
    " \n",
    "\n",
    "Flow enforcement techniques include filling methods, which raise elevations within depressions, breaching, which carves channels through blockages, and hybrid methods.\n",
    "\n",
    "Here we will use the algorithm defined by Planchon & Darboux (2001).\n",
    "\n",
    "<img src=\"images/pitPD.jpg\" alt=\"geometry\" width=\"500\" height=\"400\"/>\n",
    "\n",
    "For each given points not belonging to the boundary nodes, we will look at its 8 neighbours:\n",
    "\n",
    "<img src=\"images/neighbourhoods.gif\" alt=\"geometry\" width=\"200\" height=\"200\"/>\n"
   ]
  },
  {
   "cell_type": "code",
   "execution_count": null,
   "metadata": {},
   "outputs": [],
   "source": [
    "def pit_fill(data):\n",
    "    \n",
    "    dem = np.copy(data)\n",
    "    elev = np.copy(data)\n",
    "    \n",
    "    nrow, ncol = dem.shape\n",
    "    dem[:,:]=100000.0\n",
    "    dem[0,:]=elev[0,:]\n",
    "    dem[-1,:]=elev[-1,:]\n",
    "    dem[:,0]=elev[:,0]\n",
    "    dem[:,-1]=elev[:,-1]\n",
    "    flag = True\n",
    "    \n",
    "    # Neighbours along x,y directions \n",
    "    direct8y=[1, 1, 1, 0, -1, -1, -1, 0]\n",
    "    direct8x=[-1, 0, 1, 1, 1, 0, -1, -1]\n",
    "    \n",
    "    # Main loop\n",
    "    while flag==True:\n",
    "        flag=False\n",
    "        for i in range(1,nrow-1):\n",
    "            for j in range(1,ncol-1):\n",
    "                if dem[i,j]>elev[i,j]:\n",
    "                    for p in range(0,8):\n",
    "                        r=i+direct8x[p]\n",
    "                        c=j+direct8y[p]\n",
    "                        if elev[i,j] >= dem[r,c]+0.01:\n",
    "                            dem[i,j]=elev[i,j]\n",
    "                            flag=True\n",
    "                        else:\n",
    "                            if dem[i,j]>dem[r,c]+0.01:\n",
    "                                dem[i,j]=dem[r,c]+0.01\n",
    "                                flag=True \n",
    "    output_array=dem\n",
    "    return output_array"
   ]
  },
  {
   "cell_type": "markdown",
   "metadata": {},
   "source": [
    "We will apply the `pit_fill` function to our inital elevation grid:"
   ]
  },
  {
   "cell_type": "code",
   "execution_count": null,
   "metadata": {},
   "outputs": [],
   "source": [
    "demf = pit_fill(dem)\n",
    "\n",
    "plotDEMheatmap(x,y,demf,title=\"Filled DEM elevation\",color=None,annotate=False)"
   ]
  },
  {
   "cell_type": "markdown",
   "metadata": {},
   "source": [
    "Which points have been filled? Corresponding to lake level..."
   ]
  },
  {
   "cell_type": "code",
   "execution_count": null,
   "metadata": {},
   "outputs": [],
   "source": [
    "lake_level = demf-dem\n",
    "\n",
    "plotDEMheatmap(x,y,lake_level,title=\"Differences between filled and output DEM\",color=cmo.cm.amp)"
   ]
  },
  {
   "cell_type": "code",
   "execution_count": null,
   "metadata": {},
   "outputs": [],
   "source": []
  }
 ],
 "metadata": {
  "kernelspec": {
   "display_name": "Python 3",
   "language": "python",
   "name": "python3"
  },
  "language_info": {
   "codemirror_mode": {
    "name": "ipython",
    "version": 3
   },
   "file_extension": ".py",
   "mimetype": "text/x-python",
   "name": "python",
   "nbconvert_exporter": "python",
   "pygments_lexer": "ipython3",
   "version": "3.5.3"
  }
 },
 "nbformat": 4,
 "nbformat_minor": 1
}
