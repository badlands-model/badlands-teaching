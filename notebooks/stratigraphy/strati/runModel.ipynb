{
 "cells": [
  {
   "cell_type": "markdown",
   "metadata": {},
   "source": [
    "# Starting pyBadlands\n",
    "\n",
    "First we initialise the model and set the path to the **XmL** input file."
   ]
  },
  {
   "cell_type": "code",
   "execution_count": 5,
   "metadata": {},
   "outputs": [],
   "source": [
    "import warnings\n",
    "warnings.filterwarnings('ignore')\n",
    "\n",
    "from pyBadlands.model import Model as badlandsModel\n",
    "\n",
    "# Initialise model\n",
    "model = badlandsModel()\n",
    "# Define the XmL input file\n",
    "model.load_xml('inputFiles/exp2.xml')"
   ]
  },
  {
   "cell_type": "markdown",
   "metadata": {},
   "source": [
    "## Running pyBadlands\n",
    "\n",
    "We can run the model for a given period. The end time in the **XmL** input file is set to **10 Myr** but you might want to run the model for a coupled of iterations and check the output before running the model for the entire simulation time. This is done by putting the time in the **run_to_time** function. \n",
    "\n",
    "Here we go for the full time directly. It takes less than **10 minutes**."
   ]
  },
  {
   "cell_type": "code",
   "execution_count": 6,
   "metadata": {
    "scrolled": true
   },
   "outputs": [
    {
     "name": "stdout",
     "output_type": "stream",
     "text": [
      "   - Writing outputs (0.13 seconds; tNow = 0.0)\n",
      "   - Writing outputs (0.10 seconds; tNow = 200000.0)\n",
      "   - Writing outputs (0.10 seconds; tNow = 400000.0)\n",
      "   - Writing outputs (0.10 seconds; tNow = 600000.0)\n",
      "   - Writing outputs (0.10 seconds; tNow = 800000.0)\n",
      "   - Writing outputs (0.10 seconds; tNow = 1000000.0)\n",
      "   - Writing outputs (0.10 seconds; tNow = 1200000.0)\n",
      "   - Writing outputs (0.10 seconds; tNow = 1400000.0)\n",
      "   - Writing outputs (0.10 seconds; tNow = 1600000.0)\n",
      "   - Writing outputs (0.10 seconds; tNow = 1800000.0)\n",
      "   - Writing outputs (0.10 seconds; tNow = 2000000.0)\n",
      "   - Writing outputs (0.10 seconds; tNow = 2200000.0)\n",
      "   - Writing outputs (0.10 seconds; tNow = 2400000.0)\n",
      "   - Writing outputs (0.10 seconds; tNow = 2600000.0)\n",
      "   - Writing outputs (0.10 seconds; tNow = 2800000.0)\n",
      "   - Writing outputs (0.10 seconds; tNow = 3000000.0)\n",
      "   - Writing outputs (0.10 seconds; tNow = 3200000.0)\n",
      "   - Writing outputs (0.10 seconds; tNow = 3400000.0)\n",
      "   - Writing outputs (0.10 seconds; tNow = 3600000.0)\n",
      "   - Writing outputs (0.10 seconds; tNow = 3800000.0)\n",
      "   - Writing outputs (0.10 seconds; tNow = 4000000.0)\n",
      "   - Writing outputs (0.10 seconds; tNow = 4200000.0)\n",
      "   - Writing outputs (0.10 seconds; tNow = 4400000.0)\n",
      "   - Writing outputs (0.10 seconds; tNow = 4600000.0)\n",
      "   - Writing outputs (0.10 seconds; tNow = 4800000.0)\n",
      "   - Writing outputs (0.11 seconds; tNow = 5000000.0)\n",
      "   - Writing outputs (0.10 seconds; tNow = 5200000.0)\n",
      "   - Writing outputs (0.10 seconds; tNow = 5400000.0)\n",
      "   - Writing outputs (0.10 seconds; tNow = 5600000.0)\n",
      "   - Writing outputs (0.11 seconds; tNow = 5800000.0)\n",
      "   - Writing outputs (0.11 seconds; tNow = 6000000.0)\n",
      "   - Writing outputs (0.10 seconds; tNow = 6200000.0)\n",
      "   - Writing outputs (0.11 seconds; tNow = 6400000.0)\n",
      "   - Writing outputs (0.11 seconds; tNow = 6600000.0)\n",
      "   - Writing outputs (0.11 seconds; tNow = 6800000.0)\n",
      "   - Writing outputs (0.11 seconds; tNow = 7000000.0)\n",
      "   - Writing outputs (0.11 seconds; tNow = 7200000.0)\n",
      "   - Writing outputs (0.11 seconds; tNow = 7400000.0)\n",
      "   - Writing outputs (0.11 seconds; tNow = 7600000.0)\n",
      "   - Writing outputs (0.11 seconds; tNow = 7800000.0)\n",
      "   - Writing outputs (0.10 seconds; tNow = 8000000.0)\n",
      "   - Writing outputs (0.11 seconds; tNow = 8200000.0)\n",
      "   - Writing outputs (0.11 seconds; tNow = 8400000.0)\n",
      "   - Writing outputs (0.11 seconds; tNow = 8600000.0)\n",
      "   - Writing outputs (0.11 seconds; tNow = 8800000.0)\n",
      "   - Writing outputs (0.10 seconds; tNow = 9000000.0)\n",
      "   - Writing outputs (0.10 seconds; tNow = 9200000.0)\n",
      "   - Writing outputs (0.10 seconds; tNow = 9400000.0)\n",
      "   - Writing outputs (0.11 seconds; tNow = 9600000.0)\n",
      "   - Writing outputs (0.11 seconds; tNow = 9800000.0)\n",
      "tNow = 10000000.0 (0.03 seconds)\n",
      "   - Writing outputs (0.11 seconds; tNow = 10000000.0)\n"
     ]
    }
   ],
   "source": [
    "# Run model to 10 Myr.\n",
    "model.run_to_time(10000000)"
   ]
  },
  {
   "cell_type": "code",
   "execution_count": null,
   "metadata": {},
   "outputs": [],
   "source": []
  },
  {
   "cell_type": "code",
   "execution_count": null,
   "metadata": {},
   "outputs": [],
   "source": []
  }
 ],
 "metadata": {
  "anaconda-cloud": {},
  "kernelspec": {
   "display_name": "Python 2",
   "language": "python",
   "name": "python2"
  },
  "language_info": {
   "codemirror_mode": {
    "name": "ipython",
    "version": 2
   },
   "file_extension": ".py",
   "mimetype": "text/x-python",
   "name": "python",
   "nbconvert_exporter": "python",
   "pygments_lexer": "ipython2",
   "version": "2.7.12"
  }
 },
 "nbformat": 4,
 "nbformat_minor": 1
}
